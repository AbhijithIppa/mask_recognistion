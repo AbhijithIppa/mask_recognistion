{
 "cells": [
  {
   "cell_type": "code",
   "execution_count": null,
   "metadata": {},
   "outputs": [],
   "source": [
    "import os ,random\n",
    "import tensorflow as tf\n",
    "import pandas as pd,matplotlib.pyplot as plt,pathlib\n",
    "import zipfile,random,matplotlib.image as mpimg"
   ]
  },
  {
   "cell_type": "code",
   "execution_count": null,
   "metadata": {},
   "outputs": [],
   "source": [
    "import os ,random\n",
    "import tensorflow as tf\n",
    "import pandas as pd,matplotlib.pyplot as plt,pathlib\n",
    "import zipfile,random,matplotlib.image as mpimg"
   ]
  },
  {
   "cell_type": "code",
   "execution_count": null,
   "metadata": {},
   "outputs": [],
   "source": [
    "! kaggle datasets download -d prithwirajmitra/covid-face-mask-detection-dataset"
   ]
  },
  {
   "cell_type": "code",
   "execution_count": null,
   "metadata": {},
   "outputs": [],
   "source": [
    "!unzip covid-face-mask-detection-dataset.zip"
   ]
  },
  {
   "cell_type": "code",
   "execution_count": null,
   "metadata": {},
   "outputs": [],
   "source": [
    "img=mpimg.imread('New Masks Dataset/Train/Mask/0003.jpg')\n",
    "plt.imshow(img)"
   ]
  },
  {
   "cell_type": "code",
   "execution_count": null,
   "metadata": {},
   "outputs": [],
   "source": [
    "img1=img/255."
   ]
  },
  {
   "cell_type": "code",
   "execution_count": null,
   "metadata": {},
   "outputs": [],
   "source": [
    "from tensorflow.keras.preprocessing.image import ImageDataGenerator"
   ]
  },
  {
   "cell_type": "code",
   "execution_count": null,
   "metadata": {},
   "outputs": [],
   "source": [
    "tf.random.set_seed(42)\n",
    "t_dgen=ImageDataGenerator(rescale=1/255.)\n",
    "train_dir='New Masks Dataset/Train/'\n",
    "test_dir='New Masks Dataset/Test/'\n",
    "train_data=t_dgen.flow_from_directory(\n",
    "    train_dir,\n",
    "    batch_size=32,\n",
    "    target_size=(224,224),\n",
    "    class_mode=\"binary\",\n",
    "    seed=42\n",
    ")\n",
    "test_data=t_dgen.flow_from_directory(\n",
    "    test_dir,\n",
    "    seed=42,\n",
    "    class_mode=\"binary\",\n",
    "    target_size=(224,224),\n",
    "    batch_size=32\n",
    ")\n",
    "\n",
    "model=tf.keras.Sequential([\n",
    "   tf.keras.layers.Conv2D(filters=10, \n",
    "                         kernel_size=3,\n",
    "                         activation=\"relu\", \n",
    "                         input_shape=(224, 224, 3)), \n",
    "  tf.keras.layers.Conv2D(10, 3, activation=\"relu\"),\n",
    "  tf.keras.layers.MaxPool2D(pool_size=2, \n",
    "                            padding=\"valid\"), \n",
    "  tf.keras.layers.Conv2D(10, 3, activation=\"relu\"),\n",
    "  tf.keras.layers.Conv2D(10, 3, activation=\"relu\"),\n",
    "  tf.keras.layers.MaxPool2D(2),\n",
    "  tf.keras.layers.Flatten(),\n",
    "  tf.keras.layers.Dense(1, activation=\"sigmoid\")\n",
    "    \n",
    "])"
   ]
  },
  {
   "cell_type": "code",
   "execution_count": null,
   "metadata": {},
   "outputs": [],
   "source": [
    "model.compile(loss=\"binary_crossentropy\",\n",
    "              optimizer=tf.keras.optimizers.Adam(),\n",
    "              metrics=[\"accuracy\"])\n",
    "history=model.fit(train_data,\n",
    "                  epochs=5,\n",
    "                  steps_per_epoch=len(train_data),\n",
    "                  validation_data=test_data,\n",
    "                  validation_steps=len(test_data))"
   ]
  },
  {
   "cell_type": "code",
   "execution_count": null,
   "metadata": {},
   "outputs": [],
   "source": [
    "import pandas as pd\n",
    "pd.DataFrame(history.history).plot(figsize=(10, 7));"
   ]
  },
  {
   "cell_type": "code",
   "execution_count": null,
   "metadata": {},
   "outputs": [],
   "source": [
    "def load_and_prep_image(filename, img_shape=224):\n",
    "  \"\"\"\n",
    "  Reads an image from filename, turns it into a tensor\n",
    "  and reshapes it to (img_shape, img_shape, colour_channel).\n",
    "  \"\"\"\n",
    " \n",
    "  img = tf.io.read_file(filename)\n",
    "\n",
    "  \n",
    "  img = tf.image.decode_image(img, channels=3)\n",
    "\n",
    "  \n",
    "  img = tf.image.resize(img, size = [img_shape, img_shape])\n",
    "\n",
    "  \n",
    "  img = img/255.\n",
    "  img=tf.expand_dims(img,axis=0)\n",
    "  return img"
   ]
  },
  {
   "cell_type": "code",
   "execution_count": null,
   "metadata": {},
   "outputs": [],
   "source": [
    "\n",
    "import pathlib\n",
    "import numpy as np\n",
    "data_dir = pathlib.Path(\"New Masks Dataset/Train\") \n",
    "class_names = np.array(sorted([item.name for item in data_dir.glob('*')]))\n",
    "print(class_names)"
   ]
  },
  {
   "cell_type": "code",
   "execution_count": null,
   "metadata": {},
   "outputs": [],
   "source": [
    "def pred(filename):\n",
    "  img1=mpimg.imread(filename)\n",
    "  plt.imshow(img1)\n",
    "  img=load_and_prep_image(filename)\n",
    "  pred=model.predict(img)\n",
    "  m=class_names[int(tf.round(pred))]\n",
    "  plt.title(m)\n",
    "  plt.axis=False"
   ]
  },
  {
   "cell_type": "code",
   "execution_count": null,
   "metadata": {},
   "outputs": [],
   "source": [
    "from IPython.display import display, Javascript\n",
    "from google.colab.output import eval_js\n",
    "from base64 import b64decode\n",
    "\n",
    "def take_photo(filename='photo.jpg', quality=0.8):\n",
    "  js = Javascript('''\n",
    "    async function takePhoto(quality) {\n",
    "      const div = document.createElement('div');\n",
    "      const capture = document.createElement('button');\n",
    "      capture.textContent = 'Capture';\n",
    "      div.appendChild(capture);\n",
    "\n",
    "      const video = document.createElement('video');\n",
    "      video.style.display = 'block';\n",
    "      const stream = await navigator.mediaDevices.getUserMedia({video: true});\n",
    "\n",
    "      document.body.appendChild(div);\n",
    "      div.appendChild(video);\n",
    "      video.srcObject = stream;\n",
    "      await video.play();\n",
    "\n",
    "      // Resize the output to fit the video element.\n",
    "      google.colab.output.setIframeHeight(document.documentElement.scrollHeight, true);\n",
    "\n",
    "      // Wait for Capture to be clicked.\n",
    "      await new Promise((resolve) => capture.onclick = resolve);\n",
    "\n",
    "      const canvas = document.createElement('canvas');\n",
    "      canvas.width = video.videoWidth;\n",
    "      canvas.height = video.videoHeight;\n",
    "      canvas.getContext('2d').drawImage(video, 0, 0);\n",
    "      stream.getVideoTracks()[0].stop();\n",
    "      div.remove();\n",
    "      return canvas.toDataURL('image/jpeg', quality);\n",
    "    }\n",
    "    ''')\n",
    "  display(js)\n",
    "  data = eval_js('takePhoto({})'.format(quality))\n",
    "  binary = b64decode(data.split(',')[1])\n",
    "  with open(filename, 'wb') as f:\n",
    "    f.write(binary)\n",
    "  return filename"
   ]
  },
  {
   "cell_type": "code",
   "execution_count": null,
   "metadata": {},
   "outputs": [],
   "source": [
    "from IPython.display import Image\n",
    "try:\n",
    "  filename = take_photo()\n",
    "  print('Saved to {}'.format(filename))\n",
    "  \n",
    " \n",
    "  display(Image(filename))\n",
    "except Exception as err:\n",
    " \n",
    "  print(str(err))"
   ]
  },
  {
   "cell_type": "code",
   "execution_count": null,
   "metadata": {},
   "outputs": [],
   "source": [
    "test='photo.jpg'\n",
    "test=load_and_prep_image(test)\n",
    "test.shape"
   ]
  },
  {
   "cell_type": "code",
   "execution_count": null,
   "metadata": {},
   "outputs": [],
   "source": [
    "pred('photo.jpg')"
   ]
  }
 ],
 "metadata": {
  "language_info": {
   "name": "python"
  },
  "orig_nbformat": 4
 },
 "nbformat": 4,
 "nbformat_minor": 2
}
